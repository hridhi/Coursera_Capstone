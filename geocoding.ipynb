{
    "cells": [
        {
            "metadata": {},
            "cell_type": "markdown",
            "source": "# Geocoding "
        },
        {
            "metadata": {},
            "cell_type": "code",
            "source": "#importing the libraries \nimport pandas as pd\nimport numpy as np\nfrom bs4 import BeautifulSoup as bs# a Python library for pulling data out of HTML and XML files. \nimport requests as r",
            "execution_count": 23,
            "outputs": []
        },
        {
            "metadata": {},
            "cell_type": "code",
            "source": "#website url to be scrapped \nurl='https://en.wikipedia.org/wiki/List_of_postal_codes_of_Canada:_M'",
            "execution_count": 24,
            "outputs": []
        },
        {
            "metadata": {},
            "cell_type": "code",
            "source": "url2=r.get(url).text\n",
            "execution_count": 25,
            "outputs": []
        },
        {
            "metadata": {},
            "cell_type": "code",
            "source": "# using beautiful soup to parse the HTML/XML codes.\nsoup = bs(url2,'xml')",
            "execution_count": 26,
            "outputs": []
        },
        {
            "metadata": {},
            "cell_type": "code",
            "source": "table=soup.find('table')",
            "execution_count": 27,
            "outputs": []
        },
        {
            "metadata": {},
            "cell_type": "code",
            "source": "#lists for each coloumn \npostcode=[]\nborough=[]\nneighbourhood=[]",
            "execution_count": 28,
            "outputs": []
        },
        {
            "metadata": {},
            "cell_type": "code",
            "source": "for row in table.find_all('tr'):\n    x1=-1\n    x2=-1\n    x3=-1\n    m=[]\n    m=row.text.split('\\n')\n    x1=m[1]\n    x2=m[3]\n    x3=m[5]\n    if (x1 == 'Not assigned' or x2 == 'Not assigned' or x3 == 'Not assigned'):\n        continue\n    if(x1 == -1 or x2 == -1 or x3 == -1):\n        continue\n    postcode.append(x1)\n    borough.append(x2)\n    neighbourhood.append(x3)",
            "execution_count": 29,
            "outputs": []
        },
        {
            "metadata": {},
            "cell_type": "code",
            "source": "unique_p = set(postcode)\nprint('num of unique Postal codes:', len(unique_p))\nPostcode_u      = []\nBorough_u       = []\nNeighbourhood_u = []\n\n\nfor postcode_unique_element in unique_p:\n    p_var = ''; b_var = ''; n_var = ''; \n    for postcode_idx, postcode_element in enumerate(postcode):\n        if postcode_unique_element == postcode_element:\n            p_var = postcode_element;\n            b_var = borough[postcode_idx]\n            if n_var == '': \n                n_var = neighbourhood[postcode_idx]\n            else:\n                n_var = n_var + ', ' + neighbourhood[postcode_idx]\n    Postcode_u.append(p_var)\n    Borough_u.append(b_var)\n    Neighbourhood_u.append(n_var)",
            "execution_count": 30,
            "outputs": [
                {
                    "output_type": "stream",
                    "text": "num of unique Postal codes: 104\n",
                    "name": "stdout"
                }
            ]
        },
        {
            "metadata": {},
            "cell_type": "code",
            "source": "toronto_dict = {'Postal Code':Postcode_u, 'Borough':Borough_u, 'Neighborhood':Neighbourhood_u}\ndf_toronto = pd.DataFrame.from_dict(toronto_dict)\ndf_toronto.to_csv('toronto_part1.csv')\ndf_toronto.head(14)",
            "execution_count": 37,
            "outputs": [
                {
                    "output_type": "execute_result",
                    "execution_count": 37,
                    "data": {
                        "text/plain": "   Postal Code           Borough  \\\n0          M5R   Central Toronto   \n1          M1X       Scarborough   \n2          M4C         East York   \n3          M1M       Scarborough   \n4          M5V  Downtown Toronto   \n5          M2R        North York   \n6          M3C        North York   \n7          M4B         East York   \n8          M4L      East Toronto   \n9          M2L        North York   \n10         M4J         East York   \n11         M9V         Etobicoke   \n12         M1B       Scarborough   \n13         M7Y      East Toronto   \n\n                                         Neighborhood  \n0               The Annex / North Midtown / Yorkville  \n1                                         Upper Rouge  \n2                                    Woodbine Heights  \n3   Cliffside / Cliffcrest / Scarborough Village West  \n4   CN Tower / King and Spadina / Railway Lands / ...  \n5                                          Willowdale  \n6                                           Don Mills  \n7                    Parkview Hill / Woodbine Gardens  \n8                     India Bazaar / The Beaches West  \n9                           York Mills / Silver Hills  \n10                                       East Toronto  \n11  South Steeles / Silverstone / Humbergate / Jam...  \n12                                    Malvern / Rouge  \n13              Business reply mail Processing CentrE  ",
                        "text/html": "<div>\n<style scoped>\n    .dataframe tbody tr th:only-of-type {\n        vertical-align: middle;\n    }\n\n    .dataframe tbody tr th {\n        vertical-align: top;\n    }\n\n    .dataframe thead th {\n        text-align: right;\n    }\n</style>\n<table border=\"1\" class=\"dataframe\">\n  <thead>\n    <tr style=\"text-align: right;\">\n      <th></th>\n      <th>Postal Code</th>\n      <th>Borough</th>\n      <th>Neighborhood</th>\n    </tr>\n  </thead>\n  <tbody>\n    <tr>\n      <th>0</th>\n      <td>M5R</td>\n      <td>Central Toronto</td>\n      <td>The Annex / North Midtown / Yorkville</td>\n    </tr>\n    <tr>\n      <th>1</th>\n      <td>M1X</td>\n      <td>Scarborough</td>\n      <td>Upper Rouge</td>\n    </tr>\n    <tr>\n      <th>2</th>\n      <td>M4C</td>\n      <td>East York</td>\n      <td>Woodbine Heights</td>\n    </tr>\n    <tr>\n      <th>3</th>\n      <td>M1M</td>\n      <td>Scarborough</td>\n      <td>Cliffside / Cliffcrest / Scarborough Village West</td>\n    </tr>\n    <tr>\n      <th>4</th>\n      <td>M5V</td>\n      <td>Downtown Toronto</td>\n      <td>CN Tower / King and Spadina / Railway Lands / ...</td>\n    </tr>\n    <tr>\n      <th>5</th>\n      <td>M2R</td>\n      <td>North York</td>\n      <td>Willowdale</td>\n    </tr>\n    <tr>\n      <th>6</th>\n      <td>M3C</td>\n      <td>North York</td>\n      <td>Don Mills</td>\n    </tr>\n    <tr>\n      <th>7</th>\n      <td>M4B</td>\n      <td>East York</td>\n      <td>Parkview Hill / Woodbine Gardens</td>\n    </tr>\n    <tr>\n      <th>8</th>\n      <td>M4L</td>\n      <td>East Toronto</td>\n      <td>India Bazaar / The Beaches West</td>\n    </tr>\n    <tr>\n      <th>9</th>\n      <td>M2L</td>\n      <td>North York</td>\n      <td>York Mills / Silver Hills</td>\n    </tr>\n    <tr>\n      <th>10</th>\n      <td>M4J</td>\n      <td>East York</td>\n      <td>East Toronto</td>\n    </tr>\n    <tr>\n      <th>11</th>\n      <td>M9V</td>\n      <td>Etobicoke</td>\n      <td>South Steeles / Silverstone / Humbergate / Jam...</td>\n    </tr>\n    <tr>\n      <th>12</th>\n      <td>M1B</td>\n      <td>Scarborough</td>\n      <td>Malvern / Rouge</td>\n    </tr>\n    <tr>\n      <th>13</th>\n      <td>M7Y</td>\n      <td>East Toronto</td>\n      <td>Business reply mail Processing CentrE</td>\n    </tr>\n  </tbody>\n</table>\n</div>"
                    },
                    "metadata": {}
                }
            ]
        },
        {
            "metadata": {},
            "cell_type": "code",
            "source": "pip install geopy",
            "execution_count": 38,
            "outputs": [
                {
                    "output_type": "stream",
                    "text": "\nThe following command must be run outside of the IPython shell:\n\n    $ pip install geopy\n\nThe Python package manager (pip) can only be used from outside of IPython.\nPlease reissue the `pip` command in a separate terminal or command prompt.\n\nSee the Python documentation for more information on how to install packages:\n\n    https://docs.python.org/3/installing/\n",
                    "name": "stdout"
                }
            ]
        },
        {
            "metadata": {},
            "cell_type": "markdown",
            "source": "# Geocoding the dataframe"
        },
        {
            "metadata": {},
            "cell_type": "code",
            "source": "from geopy.geocoders import Nominatim\n\n",
            "execution_count": 39,
            "outputs": []
        },
        {
            "metadata": {},
            "cell_type": "code",
            "source": "import csv",
            "execution_count": 40,
            "outputs": []
        },
        {
            "metadata": {},
            "cell_type": "code",
            "source": "\nimport types\nimport pandas as pd\nfrom botocore.client import Config\nimport ibm_boto3\n\ndef __iter__(self): return 0\n\n# @hidden_cell\n# The following code accesses a file in your IBM Cloud Object Storage. It includes your credentials.\n# You might want to remove those credentials before you share the notebook.\nclient_97dd3797a4424cf69cb3085f1a5298b4 = ibm_boto3.client(service_name='s3',\n    ibm_api_key_id='IdYhW2dhbQ6z6tjpW2x_EC_uQEUdvP4eqsQcEAUmX2QH',\n    ibm_auth_endpoint=\"https://iam.eu-gb.bluemix.net/oidc/token\",\n    config=Config(signature_version='oauth'),\n    endpoint_url='https://s3.eu-geo.objectstorage.service.networklayer.com')\n\nbody = client_97dd3797a4424cf69cb3085f1a5298b4.get_object(Bucket='courseracapstone-donotdelete-pr-ia4ihpnxp611nv',Key='Geospatial_Coordinates.csv')['Body']\n# add missing __iter__ method, so pandas accepts body as file-like object\nif not hasattr(body, \"__iter__\"): body.__iter__ = types.MethodType( __iter__, body )\n\n# If you are reading an Excel file into a pandas DataFrame, replace `read_csv` by `read_excel` in the next statement.\ndf_data_0 = pd.read_csv(body)\ndf_data_0.head()\n",
            "execution_count": 41,
            "outputs": [
                {
                    "output_type": "execute_result",
                    "execution_count": 41,
                    "data": {
                        "text/plain": "  Postal Code   Latitude  Longitude\n0         M1B  43.806686 -79.194353\n1         M1C  43.784535 -79.160497\n2         M1E  43.763573 -79.188711\n3         M1G  43.770992 -79.216917\n4         M1H  43.773136 -79.239476",
                        "text/html": "<div>\n<style scoped>\n    .dataframe tbody tr th:only-of-type {\n        vertical-align: middle;\n    }\n\n    .dataframe tbody tr th {\n        vertical-align: top;\n    }\n\n    .dataframe thead th {\n        text-align: right;\n    }\n</style>\n<table border=\"1\" class=\"dataframe\">\n  <thead>\n    <tr style=\"text-align: right;\">\n      <th></th>\n      <th>Postal Code</th>\n      <th>Latitude</th>\n      <th>Longitude</th>\n    </tr>\n  </thead>\n  <tbody>\n    <tr>\n      <th>0</th>\n      <td>M1B</td>\n      <td>43.806686</td>\n      <td>-79.194353</td>\n    </tr>\n    <tr>\n      <th>1</th>\n      <td>M1C</td>\n      <td>43.784535</td>\n      <td>-79.160497</td>\n    </tr>\n    <tr>\n      <th>2</th>\n      <td>M1E</td>\n      <td>43.763573</td>\n      <td>-79.188711</td>\n    </tr>\n    <tr>\n      <th>3</th>\n      <td>M1G</td>\n      <td>43.770992</td>\n      <td>-79.216917</td>\n    </tr>\n    <tr>\n      <th>4</th>\n      <td>M1H</td>\n      <td>43.773136</td>\n      <td>-79.239476</td>\n    </tr>\n  </tbody>\n</table>\n</div>"
                    },
                    "metadata": {}
                }
            ]
        },
        {
            "metadata": {},
            "cell_type": "code",
            "source": "df=pd.merge(df_toronto, df_data_0, on='Postal Code')\ndf.head()",
            "execution_count": 42,
            "outputs": [
                {
                    "output_type": "execute_result",
                    "execution_count": 42,
                    "data": {
                        "text/plain": "  Postal Code           Borough  \\\n0         M5R   Central Toronto   \n1         M1X       Scarborough   \n2         M4C         East York   \n3         M1M       Scarborough   \n4         M5V  Downtown Toronto   \n\n                                        Neighborhood   Latitude  Longitude  \n0              The Annex / North Midtown / Yorkville  43.672710 -79.405678  \n1                                        Upper Rouge  43.836125 -79.205636  \n2                                   Woodbine Heights  43.695344 -79.318389  \n3  Cliffside / Cliffcrest / Scarborough Village West  43.716316 -79.239476  \n4  CN Tower / King and Spadina / Railway Lands / ...  43.628947 -79.394420  ",
                        "text/html": "<div>\n<style scoped>\n    .dataframe tbody tr th:only-of-type {\n        vertical-align: middle;\n    }\n\n    .dataframe tbody tr th {\n        vertical-align: top;\n    }\n\n    .dataframe thead th {\n        text-align: right;\n    }\n</style>\n<table border=\"1\" class=\"dataframe\">\n  <thead>\n    <tr style=\"text-align: right;\">\n      <th></th>\n      <th>Postal Code</th>\n      <th>Borough</th>\n      <th>Neighborhood</th>\n      <th>Latitude</th>\n      <th>Longitude</th>\n    </tr>\n  </thead>\n  <tbody>\n    <tr>\n      <th>0</th>\n      <td>M5R</td>\n      <td>Central Toronto</td>\n      <td>The Annex / North Midtown / Yorkville</td>\n      <td>43.672710</td>\n      <td>-79.405678</td>\n    </tr>\n    <tr>\n      <th>1</th>\n      <td>M1X</td>\n      <td>Scarborough</td>\n      <td>Upper Rouge</td>\n      <td>43.836125</td>\n      <td>-79.205636</td>\n    </tr>\n    <tr>\n      <th>2</th>\n      <td>M4C</td>\n      <td>East York</td>\n      <td>Woodbine Heights</td>\n      <td>43.695344</td>\n      <td>-79.318389</td>\n    </tr>\n    <tr>\n      <th>3</th>\n      <td>M1M</td>\n      <td>Scarborough</td>\n      <td>Cliffside / Cliffcrest / Scarborough Village West</td>\n      <td>43.716316</td>\n      <td>-79.239476</td>\n    </tr>\n    <tr>\n      <th>4</th>\n      <td>M5V</td>\n      <td>Downtown Toronto</td>\n      <td>CN Tower / King and Spadina / Railway Lands / ...</td>\n      <td>43.628947</td>\n      <td>-79.394420</td>\n    </tr>\n  </tbody>\n</table>\n</div>"
                    },
                    "metadata": {}
                }
            ]
        },
        {
            "metadata": {},
            "cell_type": "code",
            "source": "print(df.shape)",
            "execution_count": 43,
            "outputs": [
                {
                    "output_type": "stream",
                    "text": "(103, 5)\n",
                    "name": "stdout"
                }
            ]
        },
        {
            "metadata": {},
            "cell_type": "code",
            "source": "",
            "execution_count": null,
            "outputs": []
        }
    ],
    "metadata": {
        "kernelspec": {
            "name": "python3",
            "display_name": "Python 3.6",
            "language": "python"
        },
        "language_info": {
            "name": "python",
            "version": "3.6.9",
            "mimetype": "text/x-python",
            "codemirror_mode": {
                "name": "ipython",
                "version": 3
            },
            "pygments_lexer": "ipython3",
            "nbconvert_exporter": "python",
            "file_extension": ".py"
        }
    },
    "nbformat": 4,
    "nbformat_minor": 1
}